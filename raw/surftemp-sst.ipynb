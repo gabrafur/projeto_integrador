{
 "cells": [
  {
   "cell_type": "code",
   "execution_count": 0,
   "metadata": {
    "application/vnd.databricks.v1+cell": {
     "cellMetadata": {
      "byteLimit": 2048000,
      "rowLimit": 10000
     },
     "inputWidgets": {},
     "nuid": "8ce908c2-e310-4a02-9394-0e57d8576593",
     "showTitle": false,
     "title": ""
    }
   },
   "outputs": [],
   "source": [
    "import os\n",
    "import shutil\n",
    "import boto3\n",
    "from botocore import UNSIGNED\n",
    "from botocore.client import Config\n",
    "from tqdm import tqdm\n",
    "from multiprocessing import Pool"
   ]
  },
  {
   "cell_type": "code",
   "execution_count": 0,
   "metadata": {
    "application/vnd.databricks.v1+cell": {
     "cellMetadata": {
      "byteLimit": 2048000,
      "rowLimit": 10000
     },
     "inputWidgets": {},
     "nuid": "33b1cca7-3c0c-4a3b-bcba-2f10138738d7",
     "showTitle": false,
     "title": ""
    }
   },
   "outputs": [],
   "source": [
    "def download_s3(page):\n",
    "    for obj in page.get('Contents', []):\n",
    "        key = obj['Key']\n",
    "        filename = key.split('/')[-1]\n",
    "        subfolder_path_temp = os.path.join(temp_dir, os.path.dirname(key[len(s3_folder):]))\n",
    "        subfolder_path = os.path.join(local_dir, os.path.dirname(key[len(s3_folder):]))\n",
    "        os.makedirs(subfolder_path_temp, exist_ok=True)\n",
    "        os.makedirs(subfolder_path, exist_ok=True)\n",
    "        local_file_path_temp = os.path.join(subfolder_path_temp, filename)\n",
    "        local_file_path = os.path.join(subfolder_path, filename)\n",
    "        if filename:\n",
    "            s3.download_file(bucket_name, key, local_file_path_temp)\n",
    "            shutil.copy2(local_file_path_temp,local_file_path)\n",
    "            os.remove(local_file_path_temp)\n",
    "            \n",
    "def download_s3_folder(bucket_name, s3_folder):\n",
    "    global s3\n",
    "    s3 = boto3.client('s3', config=Config(signature_version=UNSIGNED))\n",
    "    if not s3_folder.endswith('/'):\n",
    "        s3_folder += '/'\n",
    "    os.makedirs(local_dir, exist_ok=True)\n",
    "    paginator = s3.get_paginator(\"list_objects_v2\").paginate(Bucket=bucket_name, Prefix=s3_folder)\n",
    "    with Pool(processes= 20) as p:\n",
    "        results = p.imap(download_s3, paginator)\n",
    "        tuple(results)"
   ]
  },
  {
   "cell_type": "code",
   "execution_count": 0,
   "metadata": {
    "application/vnd.databricks.v1+cell": {
     "cellMetadata": {
      "byteLimit": 2048000,
      "rowLimit": 10000
     },
     "inputWidgets": {},
     "nuid": "94916594-26a6-4ba3-bb03-b5d903da035d",
     "showTitle": false,
     "title": ""
    }
   },
   "outputs": [
    {
     "output_type": "display_data",
     "data": {
      "text/html": [
       "<style scoped>\n",
       "  .ansiout {\n",
       "    display: block;\n",
       "    unicode-bidi: embed;\n",
       "    white-space: pre-wrap;\n",
       "    word-wrap: break-word;\n",
       "    word-break: break-all;\n",
       "    font-family: \"Menlo\", \"Monaco\", \"Consolas\", \"Ubuntu Mono\", \"Source Code Pro\", monospace;\n",
       "    font-size: 13px;\n",
       "    color: #555;\n",
       "    margin-left: 4px;\n",
       "    line-height: 19px;\n",
       "  }\n",
       "</style>"
      ]
     },
     "metadata": {
      "application/vnd.databricks.v1+output": {
       "arguments": {},
       "data": "",
       "errorSummary": "Cancelled",
       "errorTraceType": "html",
       "metadata": {},
       "type": "ipynbError"
      }
     },
     "output_type": "display_data"
    }
   ],
   "source": [
    "bucket_name = 'surftemp-sst'\n",
    "s3_folder = 'data/'\n",
    "temp_dir = '/tmp/usp/ProjetoIntegrador/rawzone/surftemp-sst/'\n",
    "local_dir = '/dbfs/mnt/usp/ProjetoIntegrador/rawzone/surftemp-sst/'\n",
    "\n",
    "paginator = download_s3_folder(bucket_name, s3_folder)"
   ]
  }
 ],
 "metadata": {
  "application/vnd.databricks.v1+notebook": {
   "dashboards": [],
   "language": "python",
   "notebookMetadata": {
    "pythonIndentUnit": 4
   },
   "notebookName": "surftemp-sst",
   "widgets": {}
  }
 },
 "nbformat": 4,
 "nbformat_minor": 0
}
